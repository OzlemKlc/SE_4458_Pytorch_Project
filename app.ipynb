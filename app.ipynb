{
 "cells": [
  {
   "cell_type": "markdown",
   "id": "9de7e832",
   "metadata": {},
   "source": [
    "Import Libraries"
   ]
  },
  {
   "cell_type": "code",
   "execution_count": 1,
   "id": "a8913717",
   "metadata": {},
   "outputs": [],
   "source": [
    "import torch, torchvision\n",
    "from torch import nn\n",
    "from torch import optim\n",
    "from torchvision.transforms import ToTensor\n",
    "import torch.nn.functional as F\n",
    "import matplotlib.pyplot as plt"
   ]
  },
  {
   "cell_type": "code",
   "execution_count": 2,
   "id": "509521eb",
   "metadata": {},
   "outputs": [],
   "source": [
    "import requests\n",
    "from PIL import Image\n",
    "from io import BytesIO\n",
    "\n",
    "import copy"
   ]
  },
  {
   "cell_type": "code",
   "execution_count": 3,
   "id": "d802c42b",
   "metadata": {},
   "outputs": [],
   "source": [
    "from sklearn.metrics import confusion_matrix\n",
    "import pandas as pd\n",
    "import numpy as np"
   ]
  },
  {
   "cell_type": "code",
   "execution_count": 4,
   "id": "5d264660",
   "metadata": {},
   "outputs": [],
   "source": [
    "numb_batch = 64"
   ]
  },
  {
   "cell_type": "markdown",
   "id": "d812d1a4",
   "metadata": {},
   "source": [
    "Getting Data"
   ]
  },
  {
   "cell_type": "code",
   "execution_count": 5,
   "id": "6cf696c2",
   "metadata": {
    "scrolled": true
   },
   "outputs": [],
   "source": [
    "T = torchvision.transforms.Compose([\n",
    "    torchvision.transforms.ToTensor()\n",
    "])\n",
    "train_data = torchvision.datasets.MNIST('mnist_data', train=True, download=True, transform=T)\n",
    "val_data = torchvision.datasets.MNIST('mnist_data', train=False, download=True, transform=T)\n",
    "\n",
    "train_dl = torch.utils.data.DataLoader(train_data, batch_size = numb_batch)\n",
    "val_dl = torch.utils.data.DataLoader(val_data, batch_size = numb_batch)"
   ]
  },
  {
   "cell_type": "code",
   "execution_count": 6,
   "id": "1c03ad2f",
   "metadata": {
    "scrolled": true
   },
   "outputs": [
    {
     "data": {
      "text/plain": [
       "<matplotlib.image.AxesImage at 0x1a0f50e4990>"
      ]
     },
     "execution_count": 6,
     "metadata": {},
     "output_type": "execute_result"
    },
    {
     "data": {
      "image/png": "[encoded data removed]",
      "text/plain": [
       "<Figure size 640x480 with 1 Axes>"
      ]
     },
     "metadata": {},
     "output_type": "display_data"
    }
   ],
   "source": [
    "plt.imshow(train_data[0][0][0] , cmap=\"gray\")"
   ]
  },
  {
   "attachments": {},
   "cell_type": "markdown",
   "id": "c5278f29",
   "metadata": {},
   "source": [
    "Creating the Model"
   ]
  },
  {
   "cell_type": "code",
   "execution_count": 7,
   "id": "de6735fc",
   "metadata": {},
   "outputs": [],
   "source": [
    "def create_lenet():\n",
    "    model = nn.Sequential(\n",
    "        nn.Conv2d(1, 6, 5, padding=2),\n",
    "        nn.ReLU(),\n",
    "        nn.AvgPool2d(2, stride=2),\n",
    "        \n",
    "        nn.Conv2d(6, 16, 5, padding=0),\n",
    "        nn.ReLU(),\n",
    "        nn.AvgPool2d(2, stride=2),\n",
    "        \n",
    "        nn.Flatten(),\n",
    "        nn.Linear(400, 120),\n",
    "        nn.ReLU(),\n",
    "        nn.Linear(120, 84),\n",
    "        nn.ReLU(),\n",
    "        nn.Linear(84, 10)\n",
    "    )\n",
    "    return model"
   ]
  },
  {
   "cell_type": "markdown",
   "id": "dcf3822a",
   "metadata": {},
   "source": [
    "Validating the Model"
   ]
  },
  {
   "cell_type": "code",
   "execution_count": 8,
   "id": "d701ea3d",
   "metadata": {},
   "outputs": [],
   "source": [
    "# def validate(model, data):\n",
    "#     total = 0\n",
    "#     correct = 0\n",
    "#     for i, (images, labels) in enumerate(data):\n",
    "#         images = images.cuda()\n",
    "#         x = model(images)\n",
    "#         value, pred = torch.max(x,1)\n",
    "#         pred = pred.data.cpu()\n",
    "#         total += x.size(0)\n",
    "#         correct += torch.sum(pred == labels)\n",
    "#     return correct*100./total\n",
    "\n",
    "\n",
    "\n",
    "def validate(model, data):\n",
    "    total = 0\n",
    "    correct = 0\n",
    "    for i, (images, labels) in enumerate(data):\n",
    "        # images = images.cuda()  # Bu satırı kaldırın\n",
    "        # GPU yerine CPU'ya taşıma\n",
    "        # images = images.cpu()  # Gerek yok, veri zaten CPU'da olacak\n",
    "        x = model(images)\n",
    "        value, pred = torch.max(x,1)\n",
    "        pred = pred.data.cpu()\n",
    "        total += x.size(0)\n",
    "        correct += torch.sum(pred == labels.cpu())  # labels'i de CPU'ya taşıdık\n",
    "    return correct*100./total\n"
   ]
  },
  {
   "cell_type": "markdown",
   "id": "24ef3aad",
   "metadata": {},
   "source": [
    "Training Function"
   ]
  },
  {
   "cell_type": "code",
   "execution_count": 9,
   "id": "d18d8754",
   "metadata": {},
   "outputs": [],
   "source": [
    "def train(numb_epoch=3, lr=1e-3, device=\"cpu\"):\n",
    "    accuracies = []\n",
    "    cnn = create_lenet().to(device)\n",
    "    cec = nn.CrossEntropyLoss()\n",
    "    optimizer = optim.Adam(cnn.parameters(), lr=lr)\n",
    "    max_accuracy = 0\n",
    "    for epoch in range(numb_epoch):\n",
    "        for i, (images, labels) in enumerate(train_dl):\n",
    "            images = images.to(device)\n",
    "            labels = labels.to(device)\n",
    "            optimizer.zero_grad()\n",
    "            pred = cnn(images)\n",
    "            loss = cec(pred, labels)\n",
    "            loss.backward()\n",
    "            optimizer.step()\n",
    "        accuracy = float(validate(cnn, val_dl))\n",
    "        accuracies.append(accuracy)\n",
    "        if accuracy > max_accuracy:\n",
    "            best_model = copy.deepcopy(cnn)\n",
    "            max_accuracy = accuracy\n",
    "            print(\"Saving Best Model with Accuracy: \", accuracy)\n",
    "        print('Epoch:', epoch+1, \"Accuracy :\", accuracy, '%')\n",
    "    plt.plot(accuracies)\n",
    "    return best_model"
   ]
  },
  {
   "cell_type": "markdown",
   "id": "ded6ec4c",
   "metadata": {},
   "source": [
    "GPU Availability"
   ]
  },
  {
   "cell_type": "code",
   "execution_count": 10,
   "id": "46bd4161",
   "metadata": {},
   "outputs": [
    {
     "name": "stdout",
     "output_type": "stream",
     "text": [
      "No Cuda Available\n"
     ]
    },
    {
     "data": {
      "text/plain": [
       "device(type='cpu')"
      ]
     },
     "execution_count": 10,
     "metadata": {},
     "output_type": "execute_result"
    }
   ],
   "source": [
    "if torch.cuda.is_available():\n",
    "    device = torch.device(\"cuda:0\")\n",
    "else:\n",
    "    device = torch.device(\"cpu\")\n",
    "    print(\"No Cuda Available\")\n",
    "device"
   ]
  },
  {
   "cell_type": "markdown",
   "id": "e6c56c2f",
   "metadata": {},
   "source": [
    "Training the Model"
   ]
  },
  {
   "cell_type": "code",
   "execution_count": 11,
   "id": "4dea76d2",
   "metadata": {
    "scrolled": true
   },
   "outputs": [
    {
     "name": "stdout",
     "output_type": "stream",
     "text": [
      "Saving Best Model with Accuracy:  95.27999877929688\n",
      "Epoch: 1 Accuracy : 95.27999877929688 %\n",
      "Saving Best Model with Accuracy:  96.80999755859375\n",
      "Epoch: 2 Accuracy : 96.80999755859375 %\n",
      "Saving Best Model with Accuracy:  97.52999877929688\n",
      "Epoch: 3 Accuracy : 97.52999877929688 %\n",
      "Saving Best Model with Accuracy:  98.25\n",
      "Epoch: 4 Accuracy : 98.25 %\n",
      "Saving Best Model with Accuracy:  98.58999633789062\n",
      "Epoch: 5 Accuracy : 98.58999633789062 %\n",
      "Saving Best Model with Accuracy:  98.69999694824219\n",
      "Epoch: 6 Accuracy : 98.69999694824219 %\n",
      "Saving Best Model with Accuracy:  98.75\n",
      "Epoch: 7 Accuracy : 98.75 %\n",
      "Saving Best Model with Accuracy:  98.7699966430664\n",
      "Epoch: 8 Accuracy : 98.7699966430664 %\n",
      "Epoch: 9 Accuracy : 98.7699966430664 %\n",
      "Saving Best Model with Accuracy:  98.81999969482422\n",
      "Epoch: 10 Accuracy : 98.81999969482422 %\n",
      "Epoch: 11 Accuracy : 98.77999877929688 %\n",
      "Epoch: 12 Accuracy : 98.80999755859375 %\n",
      "Epoch: 13 Accuracy : 98.5 %\n",
      "Epoch: 14 Accuracy : 98.62000274658203 %\n",
      "Epoch: 15 Accuracy : 98.61000061035156 %\n",
      "Saving Best Model with Accuracy:  98.83999633789062\n",
      "Epoch: 16 Accuracy : 98.83999633789062 %\n",
      "Epoch: 17 Accuracy : 98.76000213623047 %\n",
      "Epoch: 18 Accuracy : 98.55999755859375 %\n",
      "Saving Best Model with Accuracy:  99.05000305175781\n",
      "Epoch: 19 Accuracy : 99.05000305175781 %\n",
      "Epoch: 20 Accuracy : 98.93000030517578 %\n"
     ]
    },
    {
     "data": {
      "image/png": "[encoded data removed]",
      "text/plain": [
       "<Figure size 640x480 with 1 Axes>"
      ]
     },
     "metadata": {},
     "output_type": "display_data"
    }
   ],
   "source": [
    "lenet = train(20 , device=device)  ### device=device"
   ]
  },
  {
   "cell_type": "markdown",
   "id": "0f9faf60",
   "metadata": {},
   "source": [
    "Saving the model"
   ]
  },
  {
   "cell_type": "code",
   "execution_count": 12,
   "id": "6a5b7760",
   "metadata": {},
   "outputs": [],
   "source": [
    "torch.save(lenet.state_dict(), \"lenet.pth\")"
   ]
  },
  {
   "cell_type": "markdown",
   "id": "bb6338ab",
   "metadata": {},
   "source": [
    "Loading the saved model"
   ]
  },
  {
   "cell_type": "code",
   "execution_count": 13,
   "id": "eb9bdd0f",
   "metadata": {
    "scrolled": true
   },
   "outputs": [
    {
     "data": {
      "text/plain": [
       "Sequential(\n",
       "  (0): Conv2d(1, 6, kernel_size=(5, 5), stride=(1, 1), padding=(2, 2))\n",
       "  (1): ReLU()\n",
       "  (2): AvgPool2d(kernel_size=2, stride=2, padding=0)\n",
       "  (3): Conv2d(6, 16, kernel_size=(5, 5), stride=(1, 1))\n",
       "  (4): ReLU()\n",
       "  (5): AvgPool2d(kernel_size=2, stride=2, padding=0)\n",
       "  (6): Flatten(start_dim=1, end_dim=-1)\n",
       "  (7): Linear(in_features=400, out_features=120, bias=True)\n",
       "  (8): ReLU()\n",
       "  (9): Linear(in_features=120, out_features=84, bias=True)\n",
       "  (10): ReLU()\n",
       "  (11): Linear(in_features=84, out_features=10, bias=True)\n",
       ")"
      ]
     },
     "execution_count": 13,
     "metadata": {},
     "output_type": "execute_result"
    }
   ],
   "source": [
    "lenet = create_lenet().to(device)\n",
    "lenet.load_state_dict(torch.load(\"lenet.pth\"))\n",
    "lenet.eval()\n"
   ]
  },
  {
   "cell_type": "markdown",
   "id": "a6034285",
   "metadata": {},
   "source": [
    "Creating the Function to test validation data"
   ]
  },
  {
   "cell_type": "code",
   "execution_count": 14,
   "id": "4b600c15",
   "metadata": {},
   "outputs": [],
   "source": [
    "# def predict_dl(model, data):\n",
    "#     y_pred = []\n",
    "#     y_true = []\n",
    "#     for i, (images, labels) in enumerate(data):\n",
    "#         images = images.cuda()\n",
    "#         x = model(images)\n",
    "#         value, pred = torch.max(x, 1)\n",
    "#         pred = pred.data.cpu()\n",
    "#         y_pred.extend(list(pred.numpy()))\n",
    "#         y_true.extend(list(labels.numpy()))\n",
    "#     return np.array(y_pred), np.array(y_true)\n",
    "def predict_dl(model, data):\n",
    "    y_pred = []\n",
    "    y_true = []\n",
    "    for i, (images, labels) in enumerate(data):\n",
    "        # images = images.cuda()  # Bu satırı kaldırın\n",
    "        # GPU yerine CPU'ya taşıma\n",
    "        # images = images.cpu()  # Gerek yok, veri zaten CPU'da olacak\n",
    "        x = model(images)\n",
    "        value, pred = torch.max(x, 1)\n",
    "        y_pred.extend(pred.tolist())\n",
    "        y_true.extend(labels.tolist())\n",
    "    return y_pred, y_true\n"
   ]
  },
  {
   "cell_type": "code",
   "execution_count": 15,
   "id": "94f05821",
   "metadata": {},
   "outputs": [],
   "source": [
    "y_pred, y_true = predict_dl(lenet, val_dl)"
   ]
  },
  {
   "cell_type": "markdown",
   "id": "be3169af",
   "metadata": {},
   "source": [
    "Confusion Matrix"
   ]
  },
  {
   "cell_type": "code",
   "execution_count": 16,
   "id": "91ac6eaf",
   "metadata": {
    "scrolled": true
   },
   "outputs": [
    {
     "data": {
      "text/html": [
       "<div>\n",
       "<style scoped>\n",
       "    .dataframe tbody tr th:only-of-type {\n",
       "        vertical-align: middle;\n",
       "    }\n",
       "\n",
       "    .dataframe tbody tr th {\n",
       "        vertical-align: top;\n",
       "    }\n",
       "\n",
       "    .dataframe thead th {\n",
       "        text-align: right;\n",
       "    }\n",
       "</style>\n",
       "<table border=\"1\" class=\"dataframe\">\n",
       "  <thead>\n",
       "    <tr style=\"text-align: right;\">\n",
       "      <th></th>\n",
       "      <th>0</th>\n",
       "      <th>1</th>\n",
       "      <th>2</th>\n",
       "      <th>3</th>\n",
       "      <th>4</th>\n",
       "      <th>5</th>\n",
       "      <th>6</th>\n",
       "      <th>7</th>\n",
       "      <th>8</th>\n",
       "      <th>9</th>\n",
       "    </tr>\n",
       "  </thead>\n",
       "  <tbody>\n",
       "    <tr>\n",
       "      <th>0</th>\n",
       "      <td>977</td>\n",
       "      <td>0</td>\n",
       "      <td>1</td>\n",
       "      <td>0</td>\n",
       "      <td>0</td>\n",
       "      <td>0</td>\n",
       "      <td>0</td>\n",
       "      <td>0</td>\n",
       "      <td>1</td>\n",
       "      <td>1</td>\n",
       "    </tr>\n",
       "    <tr>\n",
       "      <th>1</th>\n",
       "      <td>0</td>\n",
       "      <td>1131</td>\n",
       "      <td>0</td>\n",
       "      <td>1</td>\n",
       "      <td>1</td>\n",
       "      <td>0</td>\n",
       "      <td>1</td>\n",
       "      <td>0</td>\n",
       "      <td>0</td>\n",
       "      <td>1</td>\n",
       "    </tr>\n",
       "    <tr>\n",
       "      <th>2</th>\n",
       "      <td>0</td>\n",
       "      <td>2</td>\n",
       "      <td>1026</td>\n",
       "      <td>0</td>\n",
       "      <td>0</td>\n",
       "      <td>0</td>\n",
       "      <td>0</td>\n",
       "      <td>4</td>\n",
       "      <td>0</td>\n",
       "      <td>0</td>\n",
       "    </tr>\n",
       "    <tr>\n",
       "      <th>3</th>\n",
       "      <td>0</td>\n",
       "      <td>0</td>\n",
       "      <td>1</td>\n",
       "      <td>997</td>\n",
       "      <td>0</td>\n",
       "      <td>6</td>\n",
       "      <td>0</td>\n",
       "      <td>1</td>\n",
       "      <td>3</td>\n",
       "      <td>2</td>\n",
       "    </tr>\n",
       "    <tr>\n",
       "      <th>4</th>\n",
       "      <td>0</td>\n",
       "      <td>0</td>\n",
       "      <td>1</td>\n",
       "      <td>0</td>\n",
       "      <td>971</td>\n",
       "      <td>0</td>\n",
       "      <td>3</td>\n",
       "      <td>1</td>\n",
       "      <td>0</td>\n",
       "      <td>6</td>\n",
       "    </tr>\n",
       "    <tr>\n",
       "      <th>5</th>\n",
       "      <td>2</td>\n",
       "      <td>0</td>\n",
       "      <td>0</td>\n",
       "      <td>3</td>\n",
       "      <td>0</td>\n",
       "      <td>886</td>\n",
       "      <td>1</td>\n",
       "      <td>0</td>\n",
       "      <td>0</td>\n",
       "      <td>0</td>\n",
       "    </tr>\n",
       "    <tr>\n",
       "      <th>6</th>\n",
       "      <td>4</td>\n",
       "      <td>3</td>\n",
       "      <td>0</td>\n",
       "      <td>0</td>\n",
       "      <td>1</td>\n",
       "      <td>4</td>\n",
       "      <td>945</td>\n",
       "      <td>0</td>\n",
       "      <td>1</td>\n",
       "      <td>0</td>\n",
       "    </tr>\n",
       "    <tr>\n",
       "      <th>7</th>\n",
       "      <td>1</td>\n",
       "      <td>1</td>\n",
       "      <td>4</td>\n",
       "      <td>0</td>\n",
       "      <td>0</td>\n",
       "      <td>0</td>\n",
       "      <td>0</td>\n",
       "      <td>1020</td>\n",
       "      <td>1</td>\n",
       "      <td>1</td>\n",
       "    </tr>\n",
       "    <tr>\n",
       "      <th>8</th>\n",
       "      <td>2</td>\n",
       "      <td>0</td>\n",
       "      <td>3</td>\n",
       "      <td>2</td>\n",
       "      <td>0</td>\n",
       "      <td>2</td>\n",
       "      <td>1</td>\n",
       "      <td>2</td>\n",
       "      <td>960</td>\n",
       "      <td>2</td>\n",
       "    </tr>\n",
       "    <tr>\n",
       "      <th>9</th>\n",
       "      <td>0</td>\n",
       "      <td>2</td>\n",
       "      <td>0</td>\n",
       "      <td>1</td>\n",
       "      <td>5</td>\n",
       "      <td>5</td>\n",
       "      <td>0</td>\n",
       "      <td>2</td>\n",
       "      <td>2</td>\n",
       "      <td>992</td>\n",
       "    </tr>\n",
       "  </tbody>\n",
       "</table>\n",
       "</div>"
      ],
      "text/plain": [
       "     0     1     2    3    4    5    6     7    8    9\n",
       "0  977     0     1    0    0    0    0     0    1    1\n",
       "1    0  1131     0    1    1    0    1     0    0    1\n",
       "2    0     2  1026    0    0    0    0     4    0    0\n",
       "3    0     0     1  997    0    6    0     1    3    2\n",
       "4    0     0     1    0  971    0    3     1    0    6\n",
       "5    2     0     0    3    0  886    1     0    0    0\n",
       "6    4     3     0    0    1    4  945     0    1    0\n",
       "7    1     1     4    0    0    0    0  1020    1    1\n",
       "8    2     0     3    2    0    2    1     2  960    2\n",
       "9    0     2     0    1    5    5    0     2    2  992"
      ]
     },
     "execution_count": 16,
     "metadata": {},
     "output_type": "execute_result"
    }
   ],
   "source": [
    "pd.DataFrame(confusion_matrix(y_true, y_pred, labels=np.arange(0,10)))"
   ]
  },
  {
   "cell_type": "markdown",
   "id": "5960620a",
   "metadata": {},
   "source": [
    "Define Inference function to get prediction for any given image"
   ]
  },
  {
   "cell_type": "code",
   "execution_count": 17,
   "id": "9a905d82",
   "metadata": {},
   "outputs": [],
   "source": [
    "def inference(path, model, device):\n",
    "    r = requests.get(path)\n",
    "    with BytesIO(r.content) as f:\n",
    "        img = Image.open(f).convert(mode=\"L\")\n",
    "        img = img.resize((28, 28))\n",
    "        x = (255 - np.expand_dims(np.array(img), -1))/255.\n",
    "    with torch.no_grad():\n",
    "        pred = model(torch.unsqueeze(T(x), axis=0).float().to(device))\n",
    "        return F.softmax(pred, dim=-1).cpu().numpy()"
   ]
  },
  {
   "cell_type": "markdown",
   "id": "ab30e39f",
   "metadata": {},
   "source": [
    "Getting the image from the web and showing the image"
   ]
  },
  {
   "cell_type": "code",
   "execution_count": 18,
   "id": "39a1248c",
   "metadata": {},
   "outputs": [],
   "source": [
    "path = \"https://as1.ftcdn.net/v2/jpg/05/22/11/98/1000_F_522119800_fw1rdxPF1AVsgGjpVVkP1ma9o7XenJjI.jpg\"\n",
    "r = requests.get(path)\n",
    "with BytesIO(r.content) as f:\n",
    "    img = Image.open(f).convert(mode=\"L\")\n",
    "    img = img.resize((28, 28))\n",
    "x = (255 - np.expand_dims(np.array(img), -1))/255."
   ]
  },
  {
   "cell_type": "code",
   "execution_count": 19,
   "id": "abf44f0e",
   "metadata": {},
   "outputs": [
    {
     "data": {
      "text/plain": [
       "<matplotlib.image.AxesImage at 0x1a0db5b2510>"
      ]
     },
     "execution_count": 19,
     "metadata": {},
     "output_type": "execute_result"
    },
    {
     "data": {
      "image/png": "[encoded data removed]",
      "text/plain": [
       "<Figure size 640x480 with 1 Axes>"
      ]
     },
     "metadata": {},
     "output_type": "display_data"
    }
   ],
   "source": [
    "plt.imshow(x.squeeze(-1), cmap=\"gray\")"
   ]
  },
  {
   "cell_type": "code",
   "execution_count": 20,
   "id": "fa40d5e1",
   "metadata": {},
   "outputs": [
    {
     "ename": "NameError",
     "evalue": "name 'Predictions' is not defined",
     "output_type": "error",
     "traceback": [
      "\u001b[1;31m---------------------------------------------------------------------------\u001b[0m",
      "\u001b[1;31mNameError\u001b[0m                                 Traceback (most recent call last)",
      "Cell \u001b[1;32mIn[20], line 1\u001b[0m\n\u001b[1;32m----> 1\u001b[0m Predictions\n",
      "\u001b[1;31mNameError\u001b[0m: name 'Predictions' is not defined"
     ]
    }
   ],
   "source": [
    "Predictions"
   ]
  },
  {
   "cell_type": "code",
   "execution_count": null,
   "id": "624bcb96",
   "metadata": {
    "scrolled": true
   },
   "outputs": [],
   "source": [
    "pred = inference(path, lenet, device=device)\n",
    "pred_idx = np.argmax(pred)\n",
    "print(f\"Predicted: {pred_idx}, Prob: {pred[0][pred_idx]*100} %\")\n"
   ]
  },
  {
   "cell_type": "code",
   "execution_count": null,
   "id": "b51c6f21",
   "metadata": {},
   "outputs": [],
   "source": [
    "pred"
   ]
  }
 ],
 "metadata": {
  "kernelspec": {
   "display_name": "Python 3 (ipykernel)",
   "language": "python",
   "name": "python3"
  },
  "language_info": {
   "codemirror_mode": {
    "name": "ipython",
    "version": 3
   },
   "file_extension": ".py",
   "mimetype": "text/x-python",
   "name": "python",
   "nbconvert_exporter": "python",
   "pygments_lexer": "ipython3",
   "version": "3.11.3"
  }
 },
 "nbformat": 4,
 "nbformat_minor": 5
}
